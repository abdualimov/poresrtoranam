{
 "cells": [
  {
   "cell_type": "code",
   "execution_count": 142,
   "metadata": {},
   "outputs": [],
   "source": [
    "import pandas as pd\n",
    "from datetime import datetime, timedelta\n",
    "from ast import literal_eval\n",
    "rest2 = pd.read_csv('kaggle_task.csv')\n",
    "rest1 = pd.read_csv('main_task.csv')"
   ]
  },
  {
   "cell_type": "code",
   "execution_count": 143,
   "metadata": {},
   "outputs": [],
   "source": [
    "rest1['sample'] = 1\n",
    "rest2['sample'] = 0\n",
    "rest2['Rating'] = 0\n",
    "rest = rest2.append(rest1, sort = False).reset_index(drop = True)"
   ]
  },
  {
   "cell_type": "markdown",
   "metadata": {},
   "source": [
    "# Расшариваем кухни"
   ]
  },
  {
   "cell_type": "code",
   "execution_count": 144,
   "metadata": {},
   "outputs": [],
   "source": [
    "# Заменяем пропущенные значения на '[propusk]'\n",
    "rest['Cuisine Style'] = rest['Cuisine Style'].fillna('[\"propusk\"]')\n",
    "\n",
    "# Делаем общий set из кухонь\n",
    "kuhni = set()  \n",
    "for i in rest['Cuisine Style']: \n",
    "    for j in literal_eval(i):\n",
    "        kuhni.add(j)\n",
    "\n",
    "# Используемая функция, возвращающая 1 если эта кухня есть\n",
    "def estornot(s):\n",
    "    if kuh in s:\n",
    "        return 1\n",
    "    return 0\n",
    "\n",
    "# Делаем новые столбцы, используя функцию estornot\n",
    "for kuh in kuhni:\n",
    "    rest[kuh] = rest['Cuisine Style'].apply(estornot)    \n",
    "\n",
    "# Заменяем описание кухонь на количество\n",
    "def lencuz(s):\n",
    "    if literal_eval(s) == [\"propusk\"]:\n",
    "        return 0\n",
    "    return len(literal_eval(s))\n",
    "rest['Cuisine Style'] = rest['Cuisine Style'].apply(lencuz)"
   ]
  },
  {
   "cell_type": "markdown",
   "metadata": {},
   "source": [
    "# Расшариваем ценник"
   ]
  },
  {
   "cell_type": "code",
   "execution_count": 145,
   "metadata": {},
   "outputs": [],
   "source": [
    "# заменяем пропущенные значения на пропуск\n",
    "def prnarange(s):\n",
    "    if pd.isna(s) == True:\n",
    "        return 'napri'\n",
    "    return s\n",
    "rest['Price Range'] = rest['Price Range'].apply(prnarange)\n",
    "\n",
    "# Функция: заменяем доллары на евро\n",
    "def doleur(s):\n",
    "    if s == '$':\n",
    "        return 'a'\n",
    "    if s == '$$ - $$$':\n",
    "        return 'bb'\n",
    "    if s == '$$$$':\n",
    "        return 'ccc'\n",
    "    return s\n",
    "rest['Price Range'] = rest['Price Range'].apply(doleur)\n",
    "\n",
    "# Делаем общий set из ценников\n",
    "zennik = set()  \n",
    "for i in rest['Price Range']: \n",
    "    zennik.add(i)\n",
    "    \n",
    "# Используемая функция, возвращающая 1 если этот ценник есть\n",
    "def estornotzen(s):\n",
    "    if zen in s:\n",
    "        return 1\n",
    "    return 0  \n",
    "# Делаем новые столбцы, используя функцию estornot\n",
    "for zen in zennik:\n",
    "    rest[zen] = rest['Price Range'].apply(estornotzen)\n",
    "    \n",
    "# Заменяем ценники числовым эквивалентом\n",
    "def prrangelen(s):\n",
    "    if s == 'napri':\n",
    "        return 0\n",
    "    return len(s)\n",
    "rest['Price Range'] = rest['Price Range'].apply(prrangelen)"
   ]
  },
  {
   "cell_type": "markdown",
   "metadata": {},
   "source": [
    "# Расшариваем города"
   ]
  },
  {
   "cell_type": "code",
   "execution_count": 146,
   "metadata": {},
   "outputs": [],
   "source": [
    "# Делаем список городов\n",
    "spisokgorodov = set()\n",
    "for i in rest['City']:\n",
    "    spisokgorodov.add(i)\n",
    "\n",
    "# Используемая функция, возвращающая 1 если ресторан в городе s\n",
    "def spisgor(s):\n",
    "    if gor in s:\n",
    "        return 1\n",
    "    return 0\n",
    "\n",
    "# Делаем новые столбцы, используя функцию spisgor\n",
    "for gor in spisokgorodov:\n",
    "    rest[gor] = rest['City'].apply(spisgor)"
   ]
  },
  {
   "cell_type": "markdown",
   "metadata": {},
   "source": [
    "# Расшариваем страны"
   ]
  },
  {
   "cell_type": "code",
   "execution_count": 147,
   "metadata": {},
   "outputs": [],
   "source": [
    "# Делаем вручную словарь страна: город\n",
    "countryes = {'Italy': ['Rome', 'Milan'], 'Germany': ['Berlin', 'Munich', 'Hamburg'], 'Slovenia': ['Ljubljana'], 'Holland': ['Amsterdam'], 'Sweden': ['Stockholm'], 'Denmark': ['Copenhagen'], 'Czech': ['Prague'], 'Switz': ['Geneva', 'Zurich'], 'Luxembourg': ['Luxembourg'], 'Portugal': ['Lisbon', 'Oporto'], 'Scotland': ['Edinburgh'], 'Austria': ['Vienna'], 'England': ['London'],'Belgium': ['Brussels'], 'Poland': ['Warsaw', 'Krakow'], 'France': ['Paris', 'Lyon'], 'Ireland': ['Dublin'], 'Finland': ['Helsinki'], 'Greece': ['Athens'], 'Spain': ['Madrid', 'Barcelona'], 'Norway': ['Oslo'], 'Romania': ['Budapest'], 'Slovakia': ['Bratislava']}\n",
    "\n",
    "# Делаем новый столбец со странами\n",
    "def countre(s):\n",
    "    for i in countryes:\n",
    "        if s in countryes[i]:\n",
    "            return i\n",
    "rest['Country'] = rest['City'].apply(countre)\n",
    "\n",
    "# Делаем список стран\n",
    "spisokstran = set()\n",
    "for i in rest['Country']:\n",
    "    spisokstran.add(i)\n",
    "\n",
    "# Используемая функция, возвращающая 1 если страна есть s\n",
    "def spisstr(s):\n",
    "    if stra in s:\n",
    "        return 1\n",
    "    return 0\n",
    "for stra in spisokstran:\n",
    "    rest[stra] = rest['Country'].apply(spisstr)"
   ]
  },
  {
   "cell_type": "markdown",
   "metadata": {},
   "source": [
    "# Расшариваем ['Ranking']"
   ]
  },
  {
   "cell_type": "code",
   "execution_count": 148,
   "metadata": {},
   "outputs": [],
   "source": [
    "#Делаем функцию делящую лист на равные части\n",
    "def split(arr, size):\n",
    "    arrs = []\n",
    "    while len(arr) > size:\n",
    "        pice = arr[:size]\n",
    "        arrs.append(pice)\n",
    "        arr = arr[size:]\n",
    "    arrs.append(arr)\n",
    "    return arrs\n",
    "\n",
    "#Делим на равные части\n",
    "asde = split(sorted(rest['Ranking']), 4000)\n",
    "\n",
    " #Делаем функцию, возвращающую 1, если значение естьв промежутке\n",
    "def parsrating(s):\n",
    "    if asde[i][0] <= s <= asde[i][-1]:\n",
    "        return 1\n",
    "    return 0\n",
    "\n",
    " #Применяем функцию\n",
    "for i in range(10):\n",
    "    rest[i] = rest['Ranking'].apply(parsrating)"
   ]
  },
  {
   "cell_type": "markdown",
   "metadata": {},
   "source": [
    "# Усредняем Ranking"
   ]
  },
  {
   "cell_type": "code",
   "execution_count": 149,
   "metadata": {},
   "outputs": [],
   "source": [
    "city_mean = rest.groupby(['City'])['Ranking'].mean()\n",
    "city_count = rest['City'].value_counts(ascending=False)\n",
    "rest['ratingmeancity'] = rest['City'].apply(lambda x: city_mean[x])\n",
    "rest['ratingvccity'] = rest['City'].apply(lambda x: city_count[x])\n",
    "rest['newranking'] = (rest['Ranking'] - rest['ratingmeancity']) / rest['ratingvccity']"
   ]
  },
  {
   "cell_type": "markdown",
   "metadata": {},
   "source": [
    "# Есть отзывы о ресторане или нет"
   ]
  },
  {
   "cell_type": "code",
   "execution_count": 150,
   "metadata": {},
   "outputs": [],
   "source": [
    "# Функция, возвращает 1 если есть, 0 если нет\n",
    "def otzestornot(s):\n",
    "    if s == '[[], []]':\n",
    "        return 0\n",
    "    return 1\n",
    "\n",
    "# Добавляем столбцы\n",
    "rest['otzestornott'] = rest['Reviews'].apply(otzestornot)"
   ]
  },
  {
   "cell_type": "markdown",
   "metadata": {},
   "source": [
    "# Разность дат отзывов"
   ]
  },
  {
   "cell_type": "code",
   "execution_count": 151,
   "metadata": {},
   "outputs": [],
   "source": [
    "# Используемая функция\n",
    "def raznotz(se):\n",
    "    s = literal_eval(rest['Reviews'][1])[1][0]\n",
    "    s1 = literal_eval(rest['Reviews'][1])[1][1]\n",
    "    dt2 = datetime.strptime(s, '%m/%d/%Y') - datetime.strptime(s1, '%m/%d/%Y')\n",
    "    if se == '[[], []]':\n",
    "        return 116\n",
    "    else:\n",
    "        try:\n",
    "            aw = datetime.strptime(literal_eval(se)[1][0], '%m/%d/%Y') -  datetime.strptime(literal_eval(se)[1][1], '%m/%d/%Y')\n",
    "            return abs(aw.days)\n",
    "        except:\n",
    "            pass\n",
    "\n",
    "# Применяем функцию\n",
    "rest['razndatotz'] = rest['Reviews'].apply(raznotz)\n",
    "# Заменяем пропущенные значения медианой\n",
    "rest['razndatotz'] = rest['razndatotz'].fillna(102)"
   ]
  },
  {
   "cell_type": "markdown",
   "metadata": {},
   "source": [
    "# Выбираем столичные рестораны"
   ]
  },
  {
   "cell_type": "code",
   "execution_count": 152,
   "metadata": {},
   "outputs": [],
   "source": [
    "# Вручную делаем список нестоличных городов\n",
    "nestol = ['Munich', 'Oporto', 'Milan', 'Barcelona', 'Zurich', 'Lyon', 'Hamburg', 'Geneva', 'Krakow']\n",
    "\n",
    "# Используемая функция\n",
    "def stol(s):\n",
    "    if s in nestol:\n",
    "        return 0\n",
    "    else:\n",
    "        return 1\n",
    "\n",
    "# Применяем функцию\n",
    "rest['Stolichniy'] = rest['City'].apply(stol)"
   ]
  },
  {
   "cell_type": "markdown",
   "metadata": {},
   "source": [
    "# Находится ли ресторан в западной Европе"
   ]
  },
  {
   "cell_type": "code",
   "execution_count": 153,
   "metadata": {},
   "outputs": [],
   "source": [
    "# делаем список городов восточной Европы\n",
    "vosteur = ['Bratislava', 'Warsaw', 'Budapest', 'Prague', 'Ljubljana', 'Krakow']\n",
    "\n",
    "# Ипользуемая функция\n",
    "def vosteuropa(s):\n",
    "    if s in vosteur:\n",
    "        return 0\n",
    "    else:\n",
    "        return 1\n",
    "    \n",
    "# Применяем функцию\n",
    "rest['ZEur'] = rest['City'].apply(vosteuropa)"
   ]
  },
  {
   "cell_type": "markdown",
   "metadata": {},
   "source": [
    "### Находится ли ресторан в туристической Мекке (0 - нет, 1 - да) (находится ли ресторан в 25 самых посещаемых городах Европы, исходя из рейтинга tripadvisor - https://www.tripadvisor.ru/TravelersChoice-Destinations-cTop-g4)"
   ]
  },
  {
   "cell_type": "code",
   "execution_count": 154,
   "metadata": {},
   "outputs": [],
   "source": [
    "# делаем список из городов, входящих в рейтинг.\n",
    "gorMek = ['Paris', 'London', 'Rome', 'Barcelona', 'Prague', 'Lisbon', 'Amsterdam', 'Budapest', 'Berlin', 'Edinburgh', 'Vienna', 'Krakow']\n",
    "\n",
    "# Используемая функция\n",
    "def Mek(s):\n",
    "    if s in gorMek:\n",
    "        return 1\n",
    "    else:\n",
    "        return 0\n",
    "\n",
    "# Добавляем столбец\n",
    "rest['Mekka'] = rest['City'].apply(Mek)"
   ]
  },
  {
   "cell_type": "markdown",
   "metadata": {},
   "source": [
    "# Топ по количеству ресторанов на пятерочку"
   ]
  },
  {
   "cell_type": "code",
   "execution_count": 155,
   "metadata": {},
   "outputs": [],
   "source": [
    "# Делаем список городов на пятерочку\n",
    "citys5 = ['Milan', 'Berlin', 'Madrid', 'Paris', 'London', 'Barcelona', 'Rome']\n",
    "\n",
    "# Используемая функция\n",
    "def kolrest(s):\n",
    "    if s in citys5:\n",
    "        return 1\n",
    "    else:\n",
    "        return 0\n",
    "\n",
    "# Применяем функцию\n",
    "rest['City5'] = rest['City'].apply(kolrest)"
   ]
  },
  {
   "cell_type": "markdown",
   "metadata": {},
   "source": [
    "# Сколько кухонь в ресторане"
   ]
  },
  {
   "cell_type": "code",
   "execution_count": 156,
   "metadata": {},
   "outputs": [],
   "source": [
    "# Ресторан с одной кухней\n",
    "def onequz(s):\n",
    "    if s == 1:\n",
    "        return 1\n",
    "    else:\n",
    "        return 0\n",
    "\n",
    "# Добавляем столбец\n",
    "rest['OneQuz'] = rest['Cuisine Style'].apply(onequz)\n",
    "\n",
    "# Ресторан с двумя кухнями\n",
    "def twoquz(s):\n",
    "    if s == 2:\n",
    "        return 1\n",
    "    else:\n",
    "        return 0\n",
    "# Добавляем столбец    \n",
    "rest['TwoQuz'] = rest['Cuisine Style'].apply(twoquz)\n",
    "\n",
    "# Ресторан с тремя и более кухнями\n",
    "def triquz(s):\n",
    "    if s >= 3:\n",
    "        return 1\n",
    "    else:\n",
    "        return 0\n",
    "\n",
    "# Добавляем столбец\n",
    "rest['TriQuz'] = rest['Cuisine Style'].apply(triquz)"
   ]
  },
  {
   "cell_type": "markdown",
   "metadata": {},
   "source": [
    "# Меняем название города на его население"
   ]
  },
  {
   "cell_type": "code",
   "execution_count": 157,
   "metadata": {},
   "outputs": [],
   "source": [
    "naselenie = {'Amsterdam': 859732,\n",
    " 'Athens': 655780,\n",
    " 'Barcelona': 1620343,\n",
    " 'Berlin': 3601131,\n",
    " 'Bratislava': 424428,\n",
    " 'Brussels': 1198726,\n",
    " 'Budapest': 1749734,\n",
    " 'Copenhagen': 615993,\n",
    " 'Dublin': 553165,\n",
    " 'Edinburgh': 482005,\n",
    " 'Geneva': 495249,\n",
    " 'Hamburg': 1830584,\n",
    " 'Helsinki': 643272,\n",
    " 'Krakow': 766739,\n",
    " 'Lisbon': 505526,\n",
    " 'Ljubljana': 279631,\n",
    " 'London': 8787892,\n",
    " 'Luxembourg': 602005,\n",
    " 'Lyon': 515695,\n",
    " 'Madrid': 3223334,\n",
    " 'Milan': 1366180,\n",
    " 'Munich': 1456039,\n",
    " 'Oporto': 214349,\n",
    " 'Oslo': 673469,\n",
    " 'Paris': 2140526,\n",
    " 'Prague': 1280508,\n",
    " 'Rome': 2872800,\n",
    " 'Stockholm': 961609,\n",
    " 'Vienna': 1840573,\n",
    " 'Warsaw': 1758143,\n",
    " 'Zurich': 402762}\n",
    "def nasel(s):\n",
    "    for i in naselenie:\n",
    "        if s == i:\n",
    "            return naselenie[i]\n",
    "rest['City'] = rest['City'].apply(nasel)"
   ]
  },
  {
   "cell_type": "markdown",
   "metadata": {},
   "source": [
    "# Город миллионник"
   ]
  },
  {
   "cell_type": "code",
   "execution_count": 158,
   "metadata": {},
   "outputs": [],
   "source": [
    "rest['1000000'] = rest['City'].apply(lambda x: 1 if x > 1000000 else 0)\n",
    "rest['City'] = rest['City'].apply(lambda x: x / 1000000)"
   ]
  },
  {
   "cell_type": "markdown",
   "metadata": {},
   "source": [
    "## Есть ли пропуски в ['Number of Reviews']"
   ]
  },
  {
   "cell_type": "code",
   "execution_count": 159,
   "metadata": {},
   "outputs": [],
   "source": [
    "rest['Number_of_Reviews_isNAN'] = pd.isna(rest['Number of Reviews']).astype('uint8')\n",
    "# ставим ноль\n",
    "rest['Number of Reviews'] = rest['Number of Reviews'].fillna(0)"
   ]
  },
  {
   "cell_type": "code",
   "execution_count": 160,
   "metadata": {},
   "outputs": [],
   "source": [
    "rest = pd.get_dummies(rest, columns=['Cuisine Style'], dummy_na=True)"
   ]
  },
  {
   "cell_type": "code",
   "execution_count": 161,
   "metadata": {},
   "outputs": [],
   "source": [
    "# Удаляем объекты\n",
    "rest = rest.drop(['Country', 'Name' ,'Reviews', 'URL_TA', 'ID_TA'], axis = 1)"
   ]
  },
  {
   "cell_type": "code",
   "execution_count": 162,
   "metadata": {},
   "outputs": [],
   "source": [
    "import numpy as np\n",
    "def round_half(num):\n",
    "    if num < 1.25:\n",
    "        num = 1.0\n",
    "    elif num < 1.75:\n",
    "        num = 1.5\n",
    "    elif num < 2.25:\n",
    "        num = 2\n",
    "    elif num < 2.75:\n",
    "        num = 2.5\n",
    "    elif num < 3.25:\n",
    "        num = 3.0\n",
    "    elif num < 3.75:\n",
    "        num = 3.5\n",
    "    elif num < 4.25:\n",
    "        num = 4.0\n",
    "    elif num < 4.75:\n",
    "        num = 4.5\n",
    "    else:\n",
    "        num = 5.0\n",
    "    return num\n",
    "\n",
    "vfunc = np.vectorize(round_half)"
   ]
  },
  {
   "cell_type": "code",
   "execution_count": 163,
   "metadata": {},
   "outputs": [],
   "source": [
    "rest4 = rest.query('sample == 1').drop(['sample'], axis=1)"
   ]
  },
  {
   "cell_type": "code",
   "execution_count": 164,
   "metadata": {},
   "outputs": [
    {
     "name": "stderr",
     "output_type": "stream",
     "text": [
      "[Parallel(n_jobs=-1)]: Using backend ThreadingBackend with 4 concurrent workers.\n",
      "[Parallel(n_jobs=-1)]: Done  42 tasks      | elapsed:   14.4s\n",
      "[Parallel(n_jobs=-1)]: Done 192 tasks      | elapsed:  1.2min\n",
      "[Parallel(n_jobs=-1)]: Done 250 out of 250 | elapsed:  1.5min finished\n",
      "[Parallel(n_jobs=4)]: Using backend ThreadingBackend with 4 concurrent workers.\n",
      "[Parallel(n_jobs=4)]: Done  42 tasks      | elapsed:    0.2s\n"
     ]
    },
    {
     "name": "stdout",
     "output_type": "stream",
     "text": [
      "MAE: 0.2074472157991995\n"
     ]
    },
    {
     "name": "stderr",
     "output_type": "stream",
     "text": [
      "[Parallel(n_jobs=4)]: Done 192 tasks      | elapsed:    0.5s\n",
      "[Parallel(n_jobs=4)]: Done 250 out of 250 | elapsed:    0.5s finished\n"
     ]
    }
   ],
   "source": [
    "X = rest4.drop(['Restaurant_id', 'Rating'], axis = 1)  \n",
    "y = rest4['Rating']\n",
    "from sklearn.model_selection import train_test_split\n",
    "X_train, X_test, y_train, y_test = train_test_split(X, y, test_size=0.2)\n",
    "from sklearn.ensemble import RandomForestRegressor # инструмент для создания и обучения модели  \n",
    "from sklearn import metrics # инструменты для оценки точности модели  \n",
    "  \n",
    "# Создаём модель  \n",
    "regr = RandomForestRegressor(n_estimators=250, max_depth=30, min_samples_split=4, min_samples_leaf=5, n_jobs=-1, verbose=1)  \n",
    "  \n",
    "# Обучаем модель на тестовом наборе данных  \n",
    "regr.fit(X_train, y_train)  \n",
    "  \n",
    "# Используем обученную модель для предсказания рейтинга ресторанов в тестовой выборке.  \n",
    "# Предсказанные значения записываем в переменную y_pred  \n",
    "y_pred = regr.predict(X_test)  \n",
    "print('MAE:', metrics.mean_absolute_error(y_test, y_pred))"
   ]
  },
  {
   "cell_type": "markdown",
   "metadata": {},
   "source": [
    "```\n",
    "test_data = rest.drop(['Restaurant_id'], axis = 1)\n",
    "test_data = test_data.query('sample == 0').drop(['sample'], axis=1)\n",
    "test_data = test_data.drop(['Rating'], axis=1)\n",
    "predict_submission = regr.predict(test_data)\n",
    "predict_submission = vfunc(predict_submission)\n",
    "sample_submission = pd.read_csv('sample_submission.csv')\n",
    "sample_submission['Rating'] = predict_submission\n",
    "sample_submission.to_csv('submission.csv', index=False)\n",
    "sample_submission.head()\n",
    "```"
   ]
  },
  {
   "cell_type": "code",
   "execution_count": null,
   "metadata": {},
   "outputs": [],
   "source": []
  },
  {
   "cell_type": "code",
   "execution_count": null,
   "metadata": {},
   "outputs": [],
   "source": []
  },
  {
   "cell_type": "code",
   "execution_count": null,
   "metadata": {},
   "outputs": [],
   "source": []
  },
  {
   "cell_type": "code",
   "execution_count": null,
   "metadata": {},
   "outputs": [],
   "source": []
  }
 ],
 "metadata": {
  "kernelspec": {
   "display_name": "Python 3",
   "language": "python",
   "name": "python3"
  },
  "language_info": {
   "codemirror_mode": {
    "name": "ipython",
    "version": 3
   },
   "file_extension": ".py",
   "mimetype": "text/x-python",
   "name": "python",
   "nbconvert_exporter": "python",
   "pygments_lexer": "ipython3",
   "version": "3.7.4"
  }
 },
 "nbformat": 4,
 "nbformat_minor": 2
}
